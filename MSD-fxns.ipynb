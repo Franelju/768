{
 "cells": [
  {
   "cell_type": "markdown",
   "metadata": {},
   "source": [
    "# MSD Functions"
   ]
  },
  {
   "cell_type": "markdown",
   "metadata": {},
   "source": [
    "MSD can be de composed into the two groupings described in the link above. The second grouping can be shown to be the autocorrelation function of the time series (a wide-sense-stationary process), which according to the Weiner-Khinchin theorem, can be found quickly from the spectral decomposition of the underlying stochastic process. (see Wikipedia)"
   ]
  },
  {
   "cell_type": "markdown",
   "metadata": {},
   "source": [
    "#https://stackoverflow.com/questions/31264591/mean-square-displacement-python\n",
    "#https://stackoverflow.com/questions/34222272/computing-mean-square-displacement-using-python-and-fft"
   ]
  },
  {
   "cell_type": "code",
   "execution_count": 4,
   "metadata": {},
   "outputs": [],
   "source": [
    "import pandas as pd\n",
    "import numpy as np\n",
    "import matplotlib.pyplot as plt\n",
    "from scipy.optimize import curve_fit"
   ]
  },
  {
   "cell_type": "code",
   "execution_count": 5,
   "metadata": {},
   "outputs": [],
   "source": [
    "#%run ./Combined-fxns-single-2D.ipynb"
   ]
  },
  {
   "cell_type": "markdown",
   "metadata": {},
   "source": [
    "# Overlapping Increments (Weiner-Kinchin Thm)"
   ]
  },
  {
   "cell_type": "code",
   "execution_count": 6,
   "metadata": {},
   "outputs": [],
   "source": [
    "def autocorrFFT(x):\n",
    "    \n",
    "    #length of time series\n",
    "    N=len(x)\n",
    "    \n",
    "    #compute 1-D fast Fourier transform of a time series\n",
    "    F = np.fft.fft(x, n=2*N)  #2*N because of zero-padding\n",
    "    \n",
    "    #define power spectral density, which is magnitude of fft\n",
    "    PSD = F * F.conjugate()\n",
    "    \n",
    "    #take the inverse Fourier transform of the PSD\n",
    "    res = np.fft.ifft(PSD)\n",
    "    \n",
    "    #take the real portion only\n",
    "    res= (res[:N]).real   #now we have the autocorrelation in convention B\n",
    "    \n",
    "    #divide res(m) by (N-m)\n",
    "    n=N*np.ones(N)-np.arange(0,N) \n",
    "    return res/n"
   ]
  },
  {
   "cell_type": "code",
   "execution_count": 7,
   "metadata": {},
   "outputs": [],
   "source": [
    "def msd_fft(r):\n",
    "    \n",
    "    #length of time series\n",
    "    N=len(r)\n",
    "    \n",
    "    #squares and sums x positions and y positions (columns)\n",
    "    D=np.square(r).sum(axis=1) \n",
    "    \n",
    "    #adds on zero\n",
    "    D=np.append(D,0) \n",
    "    \n",
    "    #computes autocorr fxn of each dimension of time series with PSD FFT method\n",
    "    S2=sum([autocorrFFT(r[:, i]) for i in range(r.shape[1])])\n",
    "    \n",
    "    #set up for computing S1 from D\n",
    "    Q=2*D.sum()\n",
    "    \n",
    "    #initialize S1\n",
    "    S1=np.zeros(N)\n",
    "    \n",
    "    #compute S1 recursively\n",
    "    for m in range(N):\n",
    "        Q=Q-D[m-1]-D[N-m]\n",
    "        S1[m]=Q/(N-m)\n",
    "        \n",
    "    #compute the mean of the squared displacement (S1-2*S2) by dividing by nlags    \n",
    "    return S1-2*S2"
   ]
  },
  {
   "cell_type": "markdown",
   "metadata": {},
   "source": [
    "# Independent Increments\n",
    "Note that strange looking jumps in MSD occur as a side effect of the sample size reducing"
   ]
  },
  {
   "cell_type": "code",
   "execution_count": 1,
   "metadata": {},
   "outputs": [],
   "source": [
    "#non overlapping intervals, takes in two dimensional path\n",
    "#starts increments from bottom of time series\n",
    "def difference_indep(dataset, interval):\n",
    "    \n",
    "    diff = list()\n",
    "    data = np.asarray(pd.concat([dataset['X'],dataset['Y']],axis=1))\n",
    "    \n",
    "    # see if difference when to lag starting at latest t\n",
    "    if (len(dataset) % interval) == 0:\n",
    "        X=0\n",
    "    else:\n",
    "        X=1\n",
    "        \n",
    "    for i in range(1,int(np.floor(len(dataset)/interval))+X):\n",
    "        value = data[i*interval,:] - data[(i-1)*interval,:]\n",
    "        #print(i*interval,(i-1)*interval)\n",
    "        diff.append(value)\n",
    "        \n",
    "    return (diff)"
   ]
  },
  {
   "cell_type": "code",
   "execution_count": 1,
   "metadata": {},
   "outputs": [],
   "source": [
    "#non overlapping intervals, takes in two dimensional path, \n",
    "#starts increments from top of time serires \n",
    "def difference_indep2(dataset, interval):\n",
    "    \n",
    "    diff = list()\n",
    "    data = np.asarray(pd.concat([dataset['X'],dataset['Y']],axis=1))\n",
    "    #print(data)\n",
    "    #print(dataset)\n",
    "    \n",
    "    if (len(dataset) % interval) == 0:\n",
    "        X=1\n",
    "    else:\n",
    "        X=0\n",
    "    k=0    \n",
    "\n",
    "    idx_top = int(len(dataset))-1\n",
    "    idx_bottom = 0\n",
    "    #print('top=',idx_top)\n",
    "\n",
    "\n",
    "    for i in range( int(len(dataset)/interval)-X,0,-1):\n",
    "        #print(i)\n",
    "        value = data[idx_top-(i-1)*(interval),:] - data[idx_top-i*(interval),:]\n",
    "        #print(idx_top-(i-1)*(interval),idx_top-i*(interval))\n",
    "        diff.append(value)\n",
    "        \n",
    "    return (diff)"
   ]
  },
  {
   "cell_type": "code",
   "execution_count": 3,
   "metadata": {},
   "outputs": [],
   "source": [
    "def msd_indep(dataset):\n",
    "    #msd = np.zeros(int(len(dataset)/2))\n",
    "    msd = np.zeros(int(len(dataset)-1))\n",
    "\n",
    "    #for i in range(1,int(len(dataset)/2)):\n",
    "    for i in range(1,int(len(dataset)-1)):\n",
    "\n",
    "        sq_inc = np.square(difference_indep(dataset,interval=i)).sum(axis=1)\n",
    "        final = sq_inc.mean()\n",
    "        msd[i] = final\n",
    "\n",
    "    return(msd)"
   ]
  },
  {
   "cell_type": "code",
   "execution_count": 4,
   "metadata": {},
   "outputs": [],
   "source": [
    "def msd_indep2(dataset):\n",
    "    #msd = np.zeros(int(len(dataset)/2))\n",
    "    msd = np.zeros(int(len(dataset)-1))\n",
    "\n",
    "    #for i in range(1,int(len(dataset)/2)):\n",
    "    for i in range(1,int(len(dataset)-1)):\n",
    "\n",
    "        sq_inc = np.square(difference_indep2(dataset,interval=i)).sum(axis=1)\n",
    "        final = sq_inc.mean()\n",
    "        msd[i] = final\n",
    "\n",
    "    return(msd)"
   ]
  },
  {
   "cell_type": "code",
   "execution_count": 1,
   "metadata": {},
   "outputs": [],
   "source": [
    "# def maybe_msd(tpts, V, tau):\n",
    "#     msd = []\n",
    "#     for i in range(1,len(tpts)):\n",
    "#         value = 2*((tau*V)**2)*(tpts[i]/tau + np.exp(-tpts[i]/tau)-1)\n",
    "#         msd.append(value)\n",
    "#     return(msd)"
   ]
  },
  {
   "cell_type": "code",
   "execution_count": 1,
   "metadata": {},
   "outputs": [],
   "source": [
    "def abp_msd(tpts, V, tau, eps):\n",
    "    msd = []\n",
    "    for i in range(1,len(tpts)):\n",
    "        if(tau>100000000):\n",
    "            value =  4*(V**2)*tpts[i] +2*(eps**2)*tpts[i] #if tau too big, set exponential =1\n",
    "        else:\n",
    "            # value = 2*((tau*V)**2)*(tpts[i]/tau + np.exp(-tpts[i]/(tau))-1) + 2*(eps**2)*tpts[i]\n",
    "            value = 4*((tau*V)**2)*(tpts[i]/tau + 2*(np.exp(-tpts[i]/(2*tau))-1)) + 2*(eps)*tpts[i]\n",
    "        msd.append(value)\n",
    "    if(tau>100000000):\n",
    "        print('limiting MSD used')\n",
    "    return(msd)"
   ]
  },
  {
   "cell_type": "code",
   "execution_count": 168,
   "metadata": {},
   "outputs": [],
   "source": [
    "# interval=10\n",
    "# dataset=path\n",
    "\n",
    "# if (len(dataset) % interval) == 0:\n",
    "#     X=1\n",
    "# else:\n",
    "#     X=0\n",
    "# k=0    \n",
    "\n",
    "# idx_top = int(len(dataset))-1\n",
    "# idx_bottom = 0\n",
    "# print(idx_top,idx_bottom)\n",
    "\n",
    "# for i in range( int(len(dataset)/interval)-X,0,-1):\n",
    "#     k=k+1\n",
    "#     print(idx_top-(i-1)*(interval),idx_top-i*(interval))\n",
    "\n",
    "\n",
    "# print(k)\n"
   ]
  },
  {
   "cell_type": "code",
   "execution_count": null,
   "metadata": {},
   "outputs": [],
   "source": []
  }
 ],
 "metadata": {
  "kernelspec": {
   "display_name": "Python 3.9.13 64-bit",
   "language": "python",
   "name": "python3"
  },
  "language_info": {
   "codemirror_mode": {
    "name": "ipython",
    "version": 3
   },
   "file_extension": ".py",
   "mimetype": "text/x-python",
   "name": "python",
   "nbconvert_exporter": "python",
   "pygments_lexer": "ipython3",
   "version": "3.9.13"
  },
  "vscode": {
   "interpreter": {
    "hash": "aee8b7b246df8f9039afb4144a1f6fd8d2ca17a180786b69acc140d282b71a49"
   }
  }
 },
 "nbformat": 4,
 "nbformat_minor": 4
}
