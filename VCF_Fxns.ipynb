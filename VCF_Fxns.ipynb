{
 "cells": [
  {
   "cell_type": "code",
   "execution_count": 1,
   "metadata": {},
   "outputs": [],
   "source": [
    "import pandas as pd\n",
    "import numpy as np\n",
    "import matplotlib.pyplot as plt\n",
    "from scipy.optimize import curve_fit"
   ]
  },
  {
   "cell_type": "code",
   "execution_count": 2,
   "metadata": {},
   "outputs": [
    {
     "ename": "SyntaxError",
     "evalue": "invalid syntax (2749969775.py, line 1)",
     "output_type": "error",
     "traceback": [
      "\u001b[0;36m  Input \u001b[0;32mIn [2]\u001b[0;36m\u001b[0m\n\u001b[0;31m    run ./Combined-fxns-single-2D.ipynb\u001b[0m\n\u001b[0m         ^\u001b[0m\n\u001b[0;31mSyntaxError\u001b[0m\u001b[0;31m:\u001b[0m invalid syntax\n"
     ]
    }
   ],
   "source": [
    "# %run ./Combined-fxns-single-2D.ipynb\n",
    "# %run ./MSD-fxns.ipynb"
   ]
  },
  {
   "cell_type": "code",
   "execution_count": null,
   "metadata": {},
   "outputs": [],
   "source": [
    "# elsevier search of VCF\n",
    "# https://www.sciencedirect.com/topics/chemistry/velocity-autocorrelation-function"
   ]
  },
  {
   "cell_type": "markdown",
   "metadata": {},
   "source": [
    "# VCF Function"
   ]
  },
  {
   "cell_type": "code",
   "execution_count": 2,
   "metadata": {},
   "outputs": [],
   "source": [
    "def VCF(dataset):\n",
    "    VCF_values = np.zeros(int(len(dataset)/3)) #need at least 3 points to find 2 vectors and angle between\n",
    "    \n",
    "    for i in range(1,int(len(dataset)/3)+1):\n",
    "        interval = i\n",
    "        diff = difference_indep(dataset,interval=interval)\n",
    "        cosines=np.zeros(len(diff)-1)\n",
    "        \n",
    "        for j in range(1,len(diff)): #was len(diff)-1\n",
    "            cosines[j-1]=np.dot(diff[j],diff[j-1])/(np.linalg.norm(diff[j])*np.linalg.norm(diff[j-1]))\n",
    "            \n",
    "        final = cosines.mean()\n",
    "        VCF_values[i-1] = final\n",
    "        \n",
    "    VCF_values = VCF_values[~np.isnan(VCF_values)]\n",
    "\n",
    "    return(VCF_values)"
   ]
  },
  {
   "cell_type": "code",
   "execution_count": 3,
   "metadata": {},
   "outputs": [],
   "source": [
    "def VCF2(dataset):\n",
    "    VCF_values = [] #np.zeros(int(len(dataset)/3)) #need at least 3 points to find 2 vectors and angle between\n",
    "    #print(len(VCF_values))\n",
    "    #print('path length is :', len(dataset))\n",
    "    #print('########')\n",
    "    for i in range(1,int(len(dataset)/2)): #or divided by 3 and plus 1\n",
    "        interval = i\n",
    "        #print('interval is ',i)\n",
    "        diff = difference_indep2(dataset,interval=interval)\n",
    "        #print('num of samples is', len(diff))\n",
    "        cosines= [] #np.zeros(len(diff)-1) \n",
    "        \n",
    "        for j in range(1,int(len(diff)/2)+1): \n",
    "            #cosines[j-1]=np.dot(diff[j],diff[j-1])/(np.linalg.norm(diff[j])*np.linalg.norm(diff[j-1]))\n",
    "            cosines.append(np.dot(diff[j],diff[j-1])/(np.linalg.norm(diff[j])*np.linalg.norm(diff[j-1])))\n",
    "\n",
    "        #print(len(cosines), 'cosines are :' ,cosines)\n",
    "        #print(len(cosines))\n",
    "\n",
    "        cosines=np.asarray(cosines)\n",
    "        final = cosines.mean()\n",
    "        #print('VCF is: ', final)\n",
    "        #VCF_values[i-1] = final\n",
    "        VCF_values.append(final)\n",
    "        #print('--------')\n",
    "        \n",
    "    #VCF_values = VCF_values[~np.isnan(VCF_values)]\n",
    "    VCF_values=np.asarray(VCF_values)\n",
    "    return(VCF_values)"
   ]
  },
  {
   "cell_type": "code",
   "execution_count": null,
   "metadata": {},
   "outputs": [],
   "source": [
    "#angles should be [-3pi/4, 0, 2*pi/5 ? , 0, pi/4]"
   ]
  },
  {
   "cell_type": "code",
   "execution_count": 47,
   "metadata": {},
   "outputs": [],
   "source": [
    "# plt.plot(np.linspace(0,np.pi*2,100),np.cos(np.linspace(0,np.pi*2,100)))\n",
    "# plt.scatter(0,np.cos(0)); plt.scatter(np.pi/4,np.cos(np.pi/4))\n",
    "# plt.scatter(np.pi/2,np.cos(np.pi/2)); plt.scatter(3*np.pi/4,np.cos(3*np.pi/4))\n",
    "# plt.scatter(np.pi,np.cos(np.pi)); plt.scatter(3*np.pi/2,np.cos(3*np.pi/2)); plt.scatter(np.pi*2, np.cos(np.pi*2))"
   ]
  },
  {
   "cell_type": "code",
   "execution_count": 4,
   "metadata": {},
   "outputs": [],
   "source": [
    "def VCF3(dataset):\n",
    "    VCF_values = [] #np.zeros(int(len(dataset)/3)) #need at least 3 points to find 2 vectors and angle between\n",
    "\n",
    "    for i in range(1,int(len(dataset)/2)): #or divided by 3 and plus 1\n",
    "        interval = i\n",
    "\n",
    "        diff = difference_indep2(dataset,interval=interval)\n",
    "\n",
    "        cosines= [] \n",
    "        \n",
    "        for j in range(1,int(len(diff))): \n",
    "\n",
    "            cosines.append(np.dot(diff[j],diff[j-1])/(np.linalg.norm(diff[j])*np.linalg.norm(diff[j-1])))\n",
    "\n",
    "        cosines=np.asarray(cosines)\n",
    "        final = cosines.mean()\n",
    "\n",
    "        VCF_values.append(final)#,len(cosines)])\n",
    "\n",
    "    VCF_values=np.asarray(VCF_values)\n",
    "    return(VCF_values)"
   ]
  },
  {
   "cell_type": "code",
   "execution_count": 1,
   "metadata": {},
   "outputs": [],
   "source": [
    "# x=[1,0,1,0,1,0,1,0,1,0,1,0,1,0,1,0,1,0,1,0,1,0]; y=[0,0,1,1,2,2,3,3,4,4,5,5,6,6,7,7,8,8,9,9,10,10]; \n",
    "# df=pd.DataFrame({'X':x, 'Y':y}); \n",
    "# plt.plot(x,y); plt.scatter(x,y,c='k'); plt.xlim(-1,5)"
   ]
  },
  {
   "cell_type": "code",
   "execution_count": 2,
   "metadata": {},
   "outputs": [],
   "source": [
    "#VCF3(df)"
   ]
  },
  {
   "cell_type": "code",
   "execution_count": 52,
   "metadata": {},
   "outputs": [
    {
     "data": {
      "text/plain": [
       "array([-0.70710678,  1.        ,  0.31622777,  1.        ,  0.70710678,\n",
       "        1.        ,  0.84366149,  1.        ,  0.90373784,  1.        ])"
      ]
     },
     "execution_count": 52,
     "metadata": {},
     "output_type": "execute_result"
    }
   ],
   "source": [
    "#VCF2(df)"
   ]
  },
  {
   "cell_type": "code",
   "execution_count": 12,
   "metadata": {},
   "outputs": [],
   "source": [
    "#VCF_Test_V6_a = pd.read_csv(\"VCF_Test_V6_a.csv\")\n"
   ]
  },
  {
   "cell_type": "code",
   "execution_count": 38,
   "metadata": {},
   "outputs": [
    {
     "name": "stderr",
     "output_type": "stream",
     "text": [
      "/nas/longleaf/apps/anaconda/2019.10.ood/lib/python3.7/site-packages/ipykernel_launcher.py:21: RuntimeWarning: Mean of empty slice.\n",
      "/nas/longleaf/apps/anaconda/2019.10.ood/lib/python3.7/site-packages/numpy/core/_methods.py:161: RuntimeWarning: invalid value encountered in double_scalars\n",
      "  ret = ret.dtype.type(ret / rcount)\n"
     ]
    }
   ],
   "source": [
    "#vcf2test=VCF2(VCF_Test_V6_a[VCF_Test_V6_a['test']==3])\n",
    "#vcf3test=VCF3(VCF_Test_V6_a[VCF_Test_V6_a['test']==3])"
   ]
  },
  {
   "cell_type": "code",
   "execution_count": 40,
   "metadata": {},
   "outputs": [
    {
     "data": {
      "text/plain": [
       "[<matplotlib.lines.Line2D at 0x7fc36f9d5a90>]"
      ]
     },
     "execution_count": 40,
     "metadata": {},
     "output_type": "execute_result"
    },
    {
     "data": {
      "image/png": "[encoded data removed]",
      "text/plain": [
       "<Figure size 432x288 with 1 Axes>"
      ]
     },
     "metadata": {},
     "output_type": "display_data"
    }
   ],
   "source": [
    "#plt.plot(vcf2test, label='vcf2')\n",
    "#plt.plot(vcf3test, label= 'vcf3')\n",
    "#plt.plot(vcf2test-vcf3test)"
   ]
  },
  {
   "cell_type": "code",
   "execution_count": 35,
   "metadata": {},
   "outputs": [],
   "source": [
    "#path=VCF_Test_V6_a[VCF_Test_V6_a['test']==3]"
   ]
  },
  {
   "cell_type": "code",
   "execution_count": 36,
   "metadata": {},
   "outputs": [
    {
     "data": {
      "text/plain": [
       "[<matplotlib.lines.Line2D at 0x7fc3700a25d0>]"
      ]
     },
     "execution_count": 36,
     "metadata": {},
     "output_type": "execute_result"
    },
    {
     "data": {
      "image/png": "[encoded data removed]",
      "text/plain": [
       "<Figure size 432x288 with 1 Axes>"
      ]
     },
     "metadata": {},
     "output_type": "display_data"
    }
   ],
   "source": [
    "#plt.plot(path['X'], path['Y'])"
   ]
  },
  {
   "cell_type": "code",
   "execution_count": null,
   "metadata": {},
   "outputs": [],
   "source": []
  },
  {
   "cell_type": "code",
   "execution_count": null,
   "metadata": {},
   "outputs": [],
   "source": [
    "# x=[1,0,1,0]; y=[0,0,1,1]\n",
    "# VCF2(df)[0]==-0.7071067811865475\n",
    "# x=[1,0,1,0]; y=[0,0,1,1]\n",
    "# VCF2(df)[0]==-0.7071067811865475"
   ]
  },
  {
   "cell_type": "code",
   "execution_count": null,
   "metadata": {},
   "outputs": [],
   "source": []
  },
  {
   "cell_type": "code",
   "execution_count": null,
   "metadata": {},
   "outputs": [],
   "source": []
  }
 ],
 "metadata": {
  "kernelspec": {
   "display_name": "Python 3.9.13 64-bit",
   "language": "python",
   "name": "python3"
  },
  "language_info": {
   "codemirror_mode": {
    "name": "ipython",
    "version": 3
   },
   "file_extension": ".py",
   "mimetype": "text/x-python",
   "name": "python",
   "nbconvert_exporter": "python",
   "pygments_lexer": "ipython3",
   "version": "3.9.13"
  },
  "vscode": {
   "interpreter": {
    "hash": "aee8b7b246df8f9039afb4144a1f6fd8d2ca17a180786b69acc140d282b71a49"
   }
  }
 },
 "nbformat": 4,
 "nbformat_minor": 4
}
